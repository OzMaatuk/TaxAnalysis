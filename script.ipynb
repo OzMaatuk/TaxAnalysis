{
 "cells": [
  {
   "cell_type": "markdown",
   "metadata": {
    "vscode": {
     "languageId": "plaintext"
    }
   },
   "source": [
    "### analyse tax refounds"
   ]
  },
  {
   "cell_type": "code",
   "execution_count": 73,
   "metadata": {},
   "outputs": [],
   "source": [
    "import re\n",
    "import pandas as pd"
   ]
  },
  {
   "cell_type": "code",
   "execution_count": 74,
   "metadata": {},
   "outputs": [],
   "source": [
    "html_content = \"\"\n",
    "\n",
    "with open('data.html', 'r', encoding='utf-8') as f:\n",
    "    html_content = f.read()"
   ]
  },
  {
   "cell_type": "code",
   "execution_count": 75,
   "metadata": {},
   "outputs": [],
   "source": [
    "# Use regular expressions to extract data\n",
    "pattern = re.compile(r'>(.*?)<')\n",
    "matches = pattern.findall(html_content)\n",
    "\n",
    "# Organize data into a list of lists\n",
    "data = [matches[i:i + 4] for i in range(0, len(matches), 4)]"
   ]
  },
  {
   "cell_type": "code",
   "execution_count": 76,
   "metadata": {},
   "outputs": [],
   "source": [
    "# data"
   ]
  },
  {
   "cell_type": "code",
   "execution_count": 77,
   "metadata": {},
   "outputs": [],
   "source": [
    "# Create a pandas DataFrame\n",
    "# df = pd.DataFrame(data, columns=['שיער ההטבת מס בשנת 2024', 'תקרת הטבה שנתית ב- ש\"ח', 'שם יישוב', 'סמל היישוב'])\n",
    "df = pd.DataFrame(data, columns=['Percentage', 'Number', 'Location', 'ID'])\n",
    "\n",
    "# Sort the DataFrame by the 'שיער ההטבת מס בשנת 2024' column in descending order\n",
    "# df_sorted = df.sort_values(by='שיער ההטבת מס בשנת 2024', ascending=False)\n",
    "df = df.sort_values(by='Percentage', ascending=False)\n",
    "\n",
    "# remove first row\n",
    "df = df.drop(index=0)\n",
    "\n",
    "# Remove '%' and convert to integer\n",
    "df['Percentage'] = df['Percentage'].str.rstrip('%').astype(int)\n",
    "\n",
    "# Convert the 'שיער ההטבת מס בשנת 2024' column to numeric format for sorting\n",
    "# df['שיער ההטבת מס בשנת 2024'] = df['שיער ההטבת מס בשנת 2024'].str.rstrip('%').astype(float) / 100\n",
    "\n",
    "\n",
    "# Reset the index of the DataFrame\n",
    "df = df.reset_index(drop=True)"
   ]
  },
  {
   "cell_type": "code",
   "execution_count": 78,
   "metadata": {},
   "outputs": [
    {
     "data": {
      "text/html": [
       "<div>\n",
       "<style scoped>\n",
       "    .dataframe tbody tr th:only-of-type {\n",
       "        vertical-align: middle;\n",
       "    }\n",
       "\n",
       "    .dataframe tbody tr th {\n",
       "        vertical-align: top;\n",
       "    }\n",
       "\n",
       "    .dataframe thead th {\n",
       "        text-align: right;\n",
       "    }\n",
       "</style>\n",
       "<table border=\"1\" class=\"dataframe\">\n",
       "  <thead>\n",
       "    <tr style=\"text-align: right;\">\n",
       "      <th></th>\n",
       "      <th>Percentage</th>\n",
       "      <th>Number</th>\n",
       "      <th>Location</th>\n",
       "      <th>ID</th>\n",
       "    </tr>\n",
       "  </thead>\n",
       "  <tbody>\n",
       "    <tr>\n",
       "      <th>0</th>\n",
       "      <td>7</td>\n",
       "      <td>146,640</td>\n",
       "      <td>כורזים</td>\n",
       "      <td>1,252</td>\n",
       "    </tr>\n",
       "    <tr>\n",
       "      <th>1</th>\n",
       "      <td>7</td>\n",
       "      <td>146,640</td>\n",
       "      <td>יאנוח-ג'ת</td>\n",
       "      <td>1295</td>\n",
       "    </tr>\n",
       "    <tr>\n",
       "      <th>2</th>\n",
       "      <td>7</td>\n",
       "      <td>146,640</td>\n",
       "      <td>ראמה</td>\n",
       "      <td>543</td>\n",
       "    </tr>\n",
       "    <tr>\n",
       "      <th>3</th>\n",
       "      <td>7</td>\n",
       "      <td>146,640</td>\n",
       "      <td>יחיעם</td>\n",
       "      <td>409</td>\n",
       "    </tr>\n",
       "    <tr>\n",
       "      <th>4</th>\n",
       "      <td>7</td>\n",
       "      <td>146,640</td>\n",
       "      <td>יסעור</td>\n",
       "      <td>575</td>\n",
       "    </tr>\n",
       "    <tr>\n",
       "      <th>...</th>\n",
       "      <td>...</td>\n",
       "      <td>...</td>\n",
       "      <td>...</td>\n",
       "      <td>...</td>\n",
       "    </tr>\n",
       "    <tr>\n",
       "      <th>477</th>\n",
       "      <td>10</td>\n",
       "      <td>180,000</td>\n",
       "      <td>מצדות יהודה</td>\n",
       "      <td>3745</td>\n",
       "    </tr>\n",
       "    <tr>\n",
       "      <th>478</th>\n",
       "      <td>10</td>\n",
       "      <td>180,000</td>\n",
       "      <td>מצובה</td>\n",
       "      <td>325</td>\n",
       "    </tr>\n",
       "    <tr>\n",
       "      <th>479</th>\n",
       "      <td>10</td>\n",
       "      <td>180,000</td>\n",
       "      <td>עתניאל</td>\n",
       "      <td>3748</td>\n",
       "    </tr>\n",
       "    <tr>\n",
       "      <th>480</th>\n",
       "      <td>10</td>\n",
       "      <td>180,000</td>\n",
       "      <td>מרחב עם</td>\n",
       "      <td>1340</td>\n",
       "    </tr>\n",
       "    <tr>\n",
       "      <th>481</th>\n",
       "      <td>10</td>\n",
       "      <td>180,000</td>\n",
       "      <td>כפר חנניה</td>\n",
       "      <td>1297</td>\n",
       "    </tr>\n",
       "  </tbody>\n",
       "</table>\n",
       "<p>482 rows × 4 columns</p>\n",
       "</div>"
      ],
      "text/plain": [
       "     Percentage   Number     Location     ID\n",
       "0             7  146,640       כורזים  1,252\n",
       "1             7  146,640    יאנוח-ג'ת   1295\n",
       "2             7  146,640         ראמה    543\n",
       "3             7  146,640        יחיעם    409\n",
       "4             7  146,640        יסעור    575\n",
       "..          ...      ...          ...    ...\n",
       "477          10  180,000  מצדות יהודה   3745\n",
       "478          10  180,000        מצובה    325\n",
       "479          10  180,000       עתניאל   3748\n",
       "480          10  180,000      מרחב עם   1340\n",
       "481          10  180,000    כפר חנניה   1297\n",
       "\n",
       "[482 rows x 4 columns]"
      ]
     },
     "execution_count": 78,
     "metadata": {},
     "output_type": "execute_result"
    }
   ],
   "source": [
    "df"
   ]
  },
  {
   "cell_type": "code",
   "execution_count": 79,
   "metadata": {},
   "outputs": [],
   "source": [
    "# You can save the sorted DataFrame to a CSV file:\n",
    "df.to_csv('sorted_data.csv', index=False)"
   ]
  },
  {
   "cell_type": "code",
   "execution_count": 83,
   "metadata": {},
   "outputs": [],
   "source": [
    "# filtered_df = df[(df['Percentage'] >= 14) & (df['Percentage'] < 20)]\n",
    "filtered_df = df[df['Percentage'] == 20]\n",
    "# filtered_df = df[df['Percentage'] == 12]"
   ]
  },
  {
   "cell_type": "code",
   "execution_count": 84,
   "metadata": {},
   "outputs": [],
   "source": [
    "# filtered_df"
   ]
  },
  {
   "cell_type": "code",
   "execution_count": 85,
   "metadata": {},
   "outputs": [
    {
     "data": {
      "text/plain": [
       "['מגן',\n",
       " 'שדה ניצן',\n",
       " 'נווה',\n",
       " 'תושייה',\n",
       " 'פרי גן',\n",
       " 'עין הבשור',\n",
       " 'צוחר',\n",
       " 'רעים',\n",
       " 'כפר מימון',\n",
       " 'דקל',\n",
       " 'אור הנר',\n",
       " 'כפר עזה',\n",
       " \"מג'דל שמס\",\n",
       " 'תקומה',\n",
       " 'נתיב העשרה',\n",
       " 'דורות',\n",
       " 'אבשלום',\n",
       " 'ארז',\n",
       " 'סופה',\n",
       " 'עין השלושה',\n",
       " 'שלומית',\n",
       " 'כרמייה',\n",
       " 'שלומי',\n",
       " 'מפלסים',\n",
       " 'כרם שלום',\n",
       " 'מבטחים',\n",
       " 'מבקיעים',\n",
       " 'תלמי אליהו',\n",
       " 'בארי',\n",
       " 'זיקים',\n",
       " 'נירים',\n",
       " 'שדרות',\n",
       " 'עמיעוז',\n",
       " 'יבול',\n",
       " 'יד מרדכי',\n",
       " 'ניר עם',\n",
       " 'איבים',\n",
       " 'שובה',\n",
       " 'תלמי יוסף',\n",
       " 'קריית שמונה',\n",
       " 'שדי אברהם',\n",
       " 'יכיני',\n",
       " \"ע'ג'ר\",\n",
       " 'עלומים',\n",
       " 'סעד',\n",
       " 'שוקדה',\n",
       " 'בני נצרים',\n",
       " 'אוהד',\n",
       " 'גבים',\n",
       " 'נחל עוז',\n",
       " 'ישע',\n",
       " 'יתד',\n",
       " 'חולית',\n",
       " 'גברעם',\n",
       " 'כיסופים',\n",
       " 'ניר יצחק',\n",
       " 'ברור חיל',\n",
       " 'זמרת',\n",
       " 'ניר עוז']"
      ]
     },
     "execution_count": 85,
     "metadata": {},
     "output_type": "execute_result"
    }
   ],
   "source": [
    "filtered_df['Location'].tolist()"
   ]
  },
  {
   "cell_type": "code",
   "execution_count": 98,
   "metadata": {},
   "outputs": [
    {
     "data": {
      "text/html": [
       "<div>\n",
       "<style scoped>\n",
       "    .dataframe tbody tr th:only-of-type {\n",
       "        vertical-align: middle;\n",
       "    }\n",
       "\n",
       "    .dataframe tbody tr th {\n",
       "        vertical-align: top;\n",
       "    }\n",
       "\n",
       "    .dataframe thead th {\n",
       "        text-align: right;\n",
       "    }\n",
       "</style>\n",
       "<table border=\"1\" class=\"dataframe\">\n",
       "  <thead>\n",
       "    <tr style=\"text-align: right;\">\n",
       "      <th></th>\n",
       "      <th>Percentage</th>\n",
       "      <th>Number</th>\n",
       "      <th>Location</th>\n",
       "      <th>ID</th>\n",
       "    </tr>\n",
       "  </thead>\n",
       "  <tbody>\n",
       "  </tbody>\n",
       "</table>\n",
       "</div>"
      ],
      "text/plain": [
       "Empty DataFrame\n",
       "Columns: [Percentage, Number, Location, ID]\n",
       "Index: []"
      ]
     },
     "execution_count": 98,
     "metadata": {},
     "output_type": "execute_result"
    }
   ],
   "source": [
    "# Value to find\n",
    "value_to_find = 'אביטל'\n",
    "\n",
    "# Column to search in\n",
    "column_to_search = 'Location'\n",
    "\n",
    "# Find rows where the column contains the specific value\n",
    "matching_rows = df[df[column_to_search] == value_to_find]\n",
    "\n",
    "# Display the matching rows\n",
    "matching_rows"
   ]
  },
  {
   "cell_type": "code",
   "execution_count": null,
   "metadata": {},
   "outputs": [],
   "source": []
  }
 ],
 "metadata": {
  "kernelspec": {
   "display_name": "base",
   "language": "python",
   "name": "python3"
  },
  "language_info": {
   "codemirror_mode": {
    "name": "ipython",
    "version": 3
   },
   "file_extension": ".py",
   "mimetype": "text/x-python",
   "name": "python",
   "nbconvert_exporter": "python",
   "pygments_lexer": "ipython3",
   "version": "3.10.14"
  }
 },
 "nbformat": 4,
 "nbformat_minor": 2
}
